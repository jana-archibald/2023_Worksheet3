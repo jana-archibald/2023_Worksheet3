{
 "cells": [
  {
   "cell_type": "markdown",
   "id": "bc2a72e2",
   "metadata": {
    "editable": false
   },
   "source": [
    "# Worksheet 3: Working with Numerical Data\n"
   ]
  },
  {
   "cell_type": "markdown",
   "id": "2c83ed99",
   "metadata": {
    "editable": false
   },
   "source": [
    "## Objectives: ##\n",
    "To practice:\n",
    "\n",
    "* Computing numerical summaries of numerical data.\n",
    "* Using the IQR method to identify potenital outlier.\n"
   ]
  },
  {
   "cell_type": "markdown",
   "id": "9da8885e",
   "metadata": {
    "editable": false
   },
   "source": [
    "## Instructions: ##\n",
    "* 1. Run the data loading function found in the tools section.\n",
    "* 2. Read the information at the beginning of each question carefully.\n",
    "* 3. Answer each part of each question by writing code in the code cell, or a sentence in a markdown cell as is appropriate."
   ]
  },
  {
   "cell_type": "markdown",
   "id": "17276ebe",
   "metadata": {
    "editable": false
   },
   "source": [
    "## Formulae: ##\n",
    "\n",
    "$$IQR=Q_3-Q_1$$\n",
    "\n",
    "$$z=\\frac{x-\\mu}{\\sigma}\\approx\\frac{x-\\bar{x}}{s}$$\n",
    "\n",
    "**IQR rule for potential outliers**\n",
    "\n",
    "A point is a potenail outier if it is less than  $Q_1-1.5\\times IQR$ \n",
    "or greater than $Q_3+1.5\\times IQR$\n",
    "\n"
   ]
  },
  {
   "cell_type": "markdown",
   "id": "7811a29d",
   "metadata": {
    "editable": false
   },
   "source": [
    "## Tools: ##"
   ]
  },
  {
   "cell_type": "code",
   "execution_count": null,
   "id": "dd24160c",
   "metadata": {
    "editable": false
   },
   "outputs": [],
   "source": [
    "census <- read.csv(\"census150.csv\",header=TRUE)"
   ]
  },
  {
   "cell_type": "markdown",
   "id": "e84eb665",
   "metadata": {
    "editable": false
   },
   "source": [
    "## Data Information: ##\n",
    "\n",
    "### Data Set: ###\n",
    "A small random sample of observations from the 2000 U.S. Census Data.\n",
    "#### Name: #### \n",
    "* `census` - observations from the 2000 U.S. Census Data.\n",
    "\n",
    "#### Variables: ####\n",
    "* `census_year` - Census Year.\n",
    "* `state_fips_code` - Name of state.\n",
    "* `total_family_income` - Total family income (in U.S. dollars).\n",
    "* `age` - Age.\n",
    "* `sex` - Sex with levels: Female and Male.\n",
    "* `race_general` - Race with levels: American Indian or Alaska Native, Black, Chinese, Japanese, Other Asian or Pacific Islander, Two major races, White and Other.\n",
    "* `marital_status` - Marital status with levels Divorced, Married/spouse absent, Married/spouse present, Never married/single, Separated and Widowed.\n",
    "* `total_personal_income` - Total personal income (in U.S. dollars).\n",
    "* `percent_family_income` - the percent of the family income earned by the participant, calculated by dividing the personal income by the family income (unless the family income is 0, then the value of this variable is set to 0) given as a percentage.\n"
   ]
  },
  {
   "cell_type": "markdown",
   "id": "5a5554de",
   "metadata": {
    "editable": false
   },
   "source": [
    "## Question 1. Calculate the Summaries ##"
   ]
  },
  {
   "cell_type": "markdown",
   "id": "d4c4a258",
   "metadata": {
    "editable": false
   },
   "source": [
    "We have now encountered a number of functions which compute summaries of data. Recall that to display information about a variable from a data set you need to indicate where the variable can be found. \n",
    "\n",
    "The format is &lt;dataName&gt;\\$&lt;varName&gt;.\n",
    "\n",
    "The following are useful commands:\n",
    "\n",
    "- Minimum value  `min(`&lt;dataName&gt;\\$&lt;varName&gt;`)`\n",
    "- Maximum value  `max(`&lt;dataName&gt;\\$&lt;varName&gt;`)`\n",
    "- Mean   `mean(`&lt;dataName&gt;\\$&lt;varName&gt;`)`\n",
    "- Median `median(`&lt;dataName&gt;\\$&lt;varName&gt;`)`\n",
    "\n",
    "Use the commands to compute the min, max, mean, and median of age and total_family_income"
   ]
  },
  {
   "cell_type": "code",
   "execution_count": null,
   "id": "e40e0cc4",
   "metadata": {},
   "outputs": [],
   "source": []
  },
  {
   "cell_type": "code",
   "execution_count": null,
   "id": "02553808",
   "metadata": {},
   "outputs": [],
   "source": []
  },
  {
   "cell_type": "markdown",
   "id": "43c5d436",
   "metadata": {
    "editable": false
   },
   "source": [
    "## Question 2. Calculating Quartiles"
   ]
  },
  {
   "cell_type": "markdown",
   "id": "2413aeac",
   "metadata": {
    "editable": false
   },
   "source": [
    "R has a command  `quantile(`&lt;dataName&gt;\\$&lt;varName&gt;, p`)` which finds a value that has proportion p of the data at or below it, and 1-p at or above it. \n",
    "\n",
    "We can use this to compute quartiles.  For example the first quartile ($Q_1$) should have  25% of the data at or below (and 75% at or above). So the code we need is `quantile(`&lt;dataName&gt;\\$&lt;varName&gt;,0.25`)`. \n",
    "\n",
    "\n",
    "a. Run the included code to compute the first quartile of age and total_family income.\n",
    "\n",
    "b. Copy and modify the code to compute the third quartile for age and total_family_income."
   ]
  },
  {
   "cell_type": "code",
   "execution_count": null,
   "id": "1ab54d39",
   "metadata": {
    "editable": false
   },
   "outputs": [],
   "source": [
    "quantile(census$age,0.25)\n",
    "quantile(census$total_family_income,0.25)"
   ]
  },
  {
   "cell_type": "code",
   "execution_count": null,
   "id": "8af45540",
   "metadata": {},
   "outputs": [],
   "source": []
  },
  {
   "cell_type": "markdown",
   "id": "8ad005aa",
   "metadata": {
    "editable": false
   },
   "source": [
    "## Question 3. Measures of Spread"
   ]
  },
  {
   "cell_type": "markdown",
   "id": "15bb2ab1",
   "metadata": {
    "editable": false
   },
   "source": [
    "We have looked at 3 measures of spread, range, IQR, and standard deviation.\n",
    "\n",
    "Range and IQR could be computed from the results of previous questions. But there are commands that can make it easier,  `range(`&lt;dataName&gt;\\$&lt;varName&gt;`)`  gives the range of values and   `IQR(`&lt;dataName&gt;\\$&lt;varName&gt;`)` computes the IQR.\n",
    "\n",
    "The command  `sd(`&lt;dataName&gt;\\$&lt;varName&gt;`)` computes the sample standard deviation.\n",
    "\n",
    "\n",
    "\n",
    "Find the three measures of spread for the variables age, and total_family_income\n",
    "\n",
    "\n",
    "Do these return what you expected? "
   ]
  },
  {
   "cell_type": "code",
   "execution_count": null,
   "id": "d5a3a537",
   "metadata": {},
   "outputs": [],
   "source": []
  },
  {
   "cell_type": "code",
   "execution_count": null,
   "id": "63928596",
   "metadata": {
    "scrolled": false
   },
   "outputs": [],
   "source": []
  },
  {
   "cell_type": "markdown",
   "id": "452eaa80",
   "metadata": {},
   "source": [
    "## Question 4. The summary command."
   ]
  },
  {
   "cell_type": "markdown",
   "id": "f59883e8",
   "metadata": {},
   "source": [
    "R has another way to quickly get a numerical picture of the data. The command  `summary(`&lt;dataName&gt;\\$&lt;varName&gt;`)` gives the 5 number summary, plus the mean.\n",
    "\n",
    "Use `summary` to compute the 5 number summary of `age` and `total_family_income`"
   ]
  },
  {
   "cell_type": "code",
   "execution_count": null,
   "id": "0fb11e5a",
   "metadata": {},
   "outputs": [],
   "source": []
  },
  {
   "cell_type": "code",
   "execution_count": null,
   "id": "60a7c5ff",
   "metadata": {},
   "outputs": [],
   "source": []
  },
  {
   "cell_type": "markdown",
   "id": "6ba2a377",
   "metadata": {},
   "source": [
    "## Question 5. Searching for Outliers. (IQR rule)"
   ]
  },
  {
   "cell_type": "markdown",
   "id": "18fa4e91",
   "metadata": {},
   "source": [
    "**IQR rule for potential outliers**\n",
    "\n",
    "A point is a potenail outier if it is less than  $Q_1-1.5\\times IQR$ \n",
    "or greater than $Q_3+1.5\\times IQR$\n",
    "\n",
    "\n",
    "In class we used this rule to find the potential outliers for the variable `total_personal_income`.\n",
    "\n",
    "I have included my calculations from class (this time using R)"
   ]
  },
  {
   "cell_type": "code",
   "execution_count": null,
   "id": "3e1cd69a",
   "metadata": {},
   "outputs": [],
   "source": [
    "summary(census$total_personal_income)"
   ]
  },
  {
   "cell_type": "markdown",
   "id": "f24297cf",
   "metadata": {},
   "source": [
    "First I computed the IQR"
   ]
  },
  {
   "cell_type": "code",
   "execution_count": null,
   "id": "1fce8445",
   "metadata": {},
   "outputs": [],
   "source": [
    "31200-0"
   ]
  },
  {
   "cell_type": "markdown",
   "id": "00856710",
   "metadata": {},
   "source": [
    "Then using  $Q_1-1.5\\times IQR$  I found the lower cut off."
   ]
  },
  {
   "cell_type": "code",
   "execution_count": null,
   "id": "a2ea78c4",
   "metadata": {},
   "outputs": [],
   "source": [
    "0-1.5*31200"
   ]
  },
  {
   "cell_type": "markdown",
   "id": "00300d3c",
   "metadata": {},
   "source": [
    "Then using  $Q_3+1.5\\times IQR$  I found the upper cut."
   ]
  },
  {
   "cell_type": "code",
   "execution_count": null,
   "id": "0ee61b36",
   "metadata": {},
   "outputs": [],
   "source": [
    "31200+1.5*31200"
   ]
  },
  {
   "cell_type": "markdown",
   "id": "12046e36",
   "metadata": {},
   "source": [
    "Since the maximum was 160 000 I know that there are potential outliers.  I can see them in the following boxplot."
   ]
  },
  {
   "cell_type": "code",
   "execution_count": null,
   "id": "c92431c9",
   "metadata": {},
   "outputs": [],
   "source": [
    "boxplot(census$total_personal_income,\n",
    "        main=\"Boxplot of Total Personal Income ($)\", ylab=\"Total Personal Income (dollars)\")"
   ]
  },
  {
   "cell_type": "markdown",
   "id": "d05fc94f",
   "metadata": {},
   "source": [
    "You will need to do the same to check for outliers for the variables `age` and `total_family_income`"
   ]
  },
  {
   "cell_type": "markdown",
   "id": "c6406db0",
   "metadata": {},
   "source": [
    "Compute the IQR for `age`"
   ]
  },
  {
   "cell_type": "code",
   "execution_count": null,
   "id": "a758f18d",
   "metadata": {},
   "outputs": [],
   "source": []
  },
  {
   "cell_type": "markdown",
   "id": "a59bf154",
   "metadata": {},
   "source": [
    "Compute the lower cut off for potential outlier using IQR method and the variable `age`"
   ]
  },
  {
   "cell_type": "code",
   "execution_count": null,
   "id": "fa71f4ce",
   "metadata": {},
   "outputs": [],
   "source": []
  },
  {
   "cell_type": "markdown",
   "id": "5a23d230",
   "metadata": {},
   "source": [
    "Compute the upper cut off for potential outlier using IQR method and the variable `age`"
   ]
  },
  {
   "cell_type": "code",
   "execution_count": null,
   "id": "ec08d513",
   "metadata": {},
   "outputs": [],
   "source": []
  },
  {
   "cell_type": "markdown",
   "id": "1752e36d",
   "metadata": {},
   "source": [
    "Based on what you have already compute about the variable `age` are there any potential outliers?"
   ]
  },
  {
   "cell_type": "markdown",
   "id": "aebafae2",
   "metadata": {},
   "source": [
    "Type your answer here.\n"
   ]
  },
  {
   "cell_type": "markdown",
   "id": "8a81d5d7",
   "metadata": {},
   "source": [
    "Confirm your answer with a boxplot."
   ]
  },
  {
   "cell_type": "code",
   "execution_count": null,
   "id": "867049a2",
   "metadata": {},
   "outputs": [],
   "source": []
  },
  {
   "cell_type": "code",
   "execution_count": null,
   "id": "399865c6",
   "metadata": {},
   "outputs": [],
   "source": []
  },
  {
   "cell_type": "markdown",
   "id": "975cb4a7",
   "metadata": {},
   "source": [
    "Compute the IQR for  `total_family_income`"
   ]
  },
  {
   "cell_type": "code",
   "execution_count": null,
   "id": "7e33187e",
   "metadata": {},
   "outputs": [],
   "source": []
  },
  {
   "cell_type": "markdown",
   "id": "97c22e02",
   "metadata": {},
   "source": [
    "Compute the lower cut off for potential outlier using IQR method and the variable `total_family_income`"
   ]
  },
  {
   "cell_type": "code",
   "execution_count": null,
   "id": "dd4eca82",
   "metadata": {},
   "outputs": [],
   "source": []
  },
  {
   "cell_type": "markdown",
   "id": "209e6952",
   "metadata": {},
   "source": [
    "Compute the upper cut off for potential outlier using IQR method and the variable  `total_family_income`"
   ]
  },
  {
   "cell_type": "code",
   "execution_count": null,
   "id": "1e76b807",
   "metadata": {},
   "outputs": [],
   "source": []
  },
  {
   "cell_type": "markdown",
   "id": "126ed7af",
   "metadata": {},
   "source": [
    "Based on what you have already compute about the variable  `total_family_income` are there any potential outliers?"
   ]
  },
  {
   "cell_type": "markdown",
   "id": "4d683510",
   "metadata": {},
   "source": [
    "type your answer here"
   ]
  },
  {
   "cell_type": "markdown",
   "id": "d3d1fab8",
   "metadata": {},
   "source": [
    "Confirm your answer with a boxplot."
   ]
  },
  {
   "cell_type": "code",
   "execution_count": null,
   "id": "4417edd3",
   "metadata": {},
   "outputs": [],
   "source": []
  },
  {
   "cell_type": "markdown",
   "id": "27088de8",
   "metadata": {},
   "source": [
    "## Question 7##"
   ]
  },
  {
   "cell_type": "markdown",
   "id": "1fe662b1",
   "metadata": {},
   "source": [
    "Finding all potential outliers.\n",
    "\n",
    "When we know that there are potential outliers, it is often necessary to find those particular entries. \n",
    "\n",
    "The function  `which(`&lt;dataName&gt;\\$&lt;varName&gt;` > number)` will return the numbers of the rows where the indicated variable is larger than a particular number.\n",
    "\n",
    "I used the following to find where the total_personal_income was above the cut off of 78000"
   ]
  },
  {
   "cell_type": "code",
   "execution_count": null,
   "id": "932bef51",
   "metadata": {},
   "outputs": [],
   "source": [
    "which(census$total_personal_income>78000)"
   ]
  },
  {
   "cell_type": "markdown",
   "id": "03b81f07",
   "metadata": {},
   "source": [
    "You can also print those lines of the data set using the code below."
   ]
  },
  {
   "cell_type": "code",
   "execution_count": null,
   "id": "3b29102f",
   "metadata": {},
   "outputs": [],
   "source": [
    "census[which(census$total_personal_income>78000),]"
   ]
  },
  {
   "cell_type": "markdown",
   "id": "dbc88139",
   "metadata": {},
   "source": [
    "Find all of the entries in the data set that have unusually larger total_family_incomes."
   ]
  },
  {
   "cell_type": "code",
   "execution_count": null,
   "id": "4b002665",
   "metadata": {},
   "outputs": [],
   "source": []
  },
  {
   "cell_type": "code",
   "execution_count": null,
   "id": "a5d1990c",
   "metadata": {},
   "outputs": [],
   "source": []
  },
  {
   "cell_type": "markdown",
   "id": "512c0e88",
   "metadata": {},
   "source": [
    "Are there any entries that have both unusually high personal income and family income?"
   ]
  },
  {
   "cell_type": "markdown",
   "id": "a0e3c80e",
   "metadata": {},
   "source": [
    "type your answer here"
   ]
  }
 ],
 "metadata": {
  "celltoolbar": "Edit Metadata",
  "kernelspec": {
   "display_name": "R",
   "language": "R",
   "name": "ir"
  },
  "language_info": {
   "codemirror_mode": "r",
   "file_extension": ".r",
   "mimetype": "text/x-r-source",
   "name": "R",
   "pygments_lexer": "r",
   "version": "4.1.2"
  }
 },
 "nbformat": 4,
 "nbformat_minor": 5
}
